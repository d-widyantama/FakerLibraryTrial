{
 "cells": [
  {
   "cell_type": "code",
   "execution_count": 104,
   "metadata": {},
   "outputs": [],
   "source": [
    "from faker import Faker"
   ]
  },
  {
   "cell_type": "code",
   "execution_count": 105,
   "metadata": {},
   "outputs": [],
   "source": [
    "fake = Faker()"
   ]
  },
  {
   "cell_type": "code",
   "execution_count": 106,
   "metadata": {},
   "outputs": [
    {
     "name": "stdout",
     "output_type": "stream",
     "text": [
      "Rebecca Reyes\n",
      "991 Jimenez Meadow\n",
      "South Ryanmouth, ND 26958\n"
     ]
    }
   ],
   "source": [
    "print(fake.name())\n",
    "print(fake.address())\n"
   ]
  },
  {
   "cell_type": "code",
   "execution_count": 107,
   "metadata": {},
   "outputs": [
    {
     "name": "stdout",
     "output_type": "stream",
     "text": [
      "Mark Short\n",
      "Angela Maldonado\n",
      "Jessica Steele\n",
      "Bradley Banks\n",
      "Dale Boyer\n",
      "Mark Mcdonald\n",
      "Deborah Silva\n",
      "Elizabeth Fields\n",
      "Cory Day\n",
      "Nathan Mccullough\n"
     ]
    }
   ],
   "source": [
    "for _ in range(10):\n",
    "  print(fake.name())"
   ]
  },
  {
   "cell_type": "code",
   "execution_count": 108,
   "metadata": {},
   "outputs": [
    {
     "name": "stdout",
     "output_type": "stream",
     "text": [
      "Sean Fisher\n",
      "2808 Monica Mills\n",
      "North Christopherbury, VT 03475\n",
      "\n",
      "License Plate\n",
      "HBA6613\n",
      "\n",
      "Credit Card Info:\n",
      "Diners Club / Carte Blanche\n",
      "4138202458724414644\n",
      "\n",
      "Favorite Emoji\n",
      "🥎\n"
     ]
    }
   ],
   "source": [
    "print(fake.name())\n",
    "print(fake.address())\n",
    "\n",
    "print(\"\\nLicense Plate\")\n",
    "print(fake.license_plate())\n",
    "\n",
    "#Credit Card Details Generator\n",
    "print(\"\\nCredit Card Info:\")\n",
    "print(fake.credit_card_provider())\n",
    "print(fake.credit_card_number())\n",
    "\n",
    "#Emojis Generator\n",
    "print(\"\\nFavorite Emoji\")\n",
    "print(fake.emoji())\n"
   ]
  },
  {
   "cell_type": "code",
   "execution_count": 109,
   "metadata": {},
   "outputs": [],
   "source": [
    "fake = Faker('id_ID')"
   ]
  },
  {
   "cell_type": "code",
   "execution_count": 110,
   "metadata": {},
   "outputs": [
    {
     "name": "stdout",
     "output_type": "stream",
     "text": [
      "Drs. Jelita Oktaviani\n",
      "R.A. Cindy Jailani, S.I.Kom\n",
      "Queen Budiyanto\n",
      "R.M. Ibrani Handayani, S.E.\n",
      "Dodo Pratama\n"
     ]
    }
   ],
   "source": [
    "#Indonesian Names\n",
    "for _ in range(5):\n",
    "    print(fake.name())\n"
   ]
  },
  {
   "cell_type": "code",
   "execution_count": 111,
   "metadata": {},
   "outputs": [
    {
     "name": "stdout",
     "output_type": "stream",
     "text": [
      "Nama orang tua: Puti Kiandra Hassanah\n",
      "Nama depan      : Raditya\n",
      "Nama belakang   : Mandala\n",
      "\n",
      "License Plate\n",
      "Z 3405 RHB\n",
      "\n",
      "Company Info\n",
      "UD Nasyidah\n",
      "\n",
      "Warna Favorit\n",
      "Merah\n"
     ]
    }
   ],
   "source": [
    "#Indonesian Locale\n",
    "#People generator\n",
    "print(f'Nama orang tua: {fake.name()}')\n",
    "print(f'Nama depan      : {fake.first_name_male()}')\n",
    "print(f'Nama belakang   : {fake.last_name_male()}')\n",
    "\n",
    "#License Plate\n",
    "print(\"\\nLicense Plate\")\n",
    "print(fake.license_plate())\n",
    "\n",
    "#Company Details\n",
    "print(\"\\nCompany Info\")\n",
    "print(fake.company())\n",
    "\n",
    "#Color ID Language\n",
    "print(\"\\nWarna Favorit\")\n",
    "print(fake.color_name())"
   ]
  }
 ],
 "metadata": {
  "kernelspec": {
   "display_name": ".venv",
   "language": "python",
   "name": "python3"
  },
  "language_info": {
   "codemirror_mode": {
    "name": "ipython",
    "version": 3
   },
   "file_extension": ".py",
   "mimetype": "text/x-python",
   "name": "python",
   "nbconvert_exporter": "python",
   "pygments_lexer": "ipython3",
   "version": "3.11.4"
  },
  "orig_nbformat": 4
 },
 "nbformat": 4,
 "nbformat_minor": 2
}
